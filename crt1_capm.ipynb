{
 "cells": [
  {
   "cell_type": "markdown",
   "id": "f18ccc7d",
   "metadata": {},
   "source": [
    "### Capital Asset Pricing Model\n",
    "---\n",
    "> (expected return) = (risk-free rate) + (beta) * ( (market return) - (risk-free rate) )\n",
    "\n",
    "- expected return - The output of our model, an estimated return the asset will give taking into account systemic risk\n",
    "- risk free rate - The interest an investor is pretty much guaranteed to earn (e.g. government bonds)\n",
    "- Beta is the covariance between the asset's return and the broad market return -> [Investopedia](https://www.investopedia.com/terms/b/beta.asp)\n",
    "- market return - The return of the broader market, or the return on a portfolio of assets\n",
    "\n",
    "> (market return) - (risk-free rate) is called the **market premium**, the spread earned by an investor for taking on market risk"
   ]
  },
  {
   "cell_type": "markdown",
   "id": "9f7f8ce5",
   "metadata": {},
   "source": [
    "We've chosen Netflix (NFLX) as our asset to study -> [Yahoo! Finance](https://finance.yahoo.com/quote/NFLX?p=NFLX)\n",
    "\n",
    "We'll be using the S&P 500 as our market return -> [Yahoo! Finance](https://finance.yahoo.com/quote/%5EGSPC?p=^GSPC)\n",
    "\n",
    "For the risk-free rate, we generally consider the current US T-bill interest rate -> [Check rates](https://home.treasury.gov/resource-center/data-chart-center/interest-rates/TextView?type=daily_treasury_bill_rates)"
   ]
  },
  {
   "cell_type": "code",
   "execution_count": 2,
   "id": "46adf6bc",
   "metadata": {},
   "outputs": [],
   "source": [
    "asset = 'NFLX'\n",
    "index = '^GSPC'\n",
    "riskFreeRate = 0.0234 # 2.34%"
   ]
  },
  {
   "cell_type": "code",
   "execution_count": 8,
   "id": "ce55f452",
   "metadata": {},
   "outputs": [
    {
     "name": "stdout",
     "output_type": "stream",
     "text": [
      "[*********************100%***********************]  1 of 1 completed\n"
     ]
    }
   ],
   "source": [
    "beta = yf.Ticker(asset).info['beta']\n",
    "data_index = yf.download(index, period='1y')"
   ]
  },
  {
   "cell_type": "code",
   "execution_count": 4,
   "id": "3b69b9a5",
   "metadata": {},
   "outputs": [],
   "source": [
    "def calculateReturn(data):\n",
    "    return (data['Adj Close'][-1] - data['Adj Close'][0] ) / data['Adj Close'][0]"
   ]
  },
  {
   "cell_type": "code",
   "execution_count": 5,
   "id": "d35f51a2",
   "metadata": {},
   "outputs": [],
   "source": [
    "def expectedReturn(riskFreeRate, beta, marketReturn):\n",
    "    return riskFreeRate + beta*(marketReturn - riskFreeRate)"
   ]
  },
  {
   "cell_type": "code",
   "execution_count": 25,
   "id": "eedfbfce",
   "metadata": {},
   "outputs": [
    {
     "name": "stdout",
     "output_type": "stream",
     "text": [
      "NFLX expected return: 15.44%\n"
     ]
    }
   ],
   "source": [
    "return_index = calculateReturn(data_index)\n",
    "asset_er = expectedReturn(riskFreeRate, beta, return_index)\n",
    "print(f'NFLX expected return: {(asset_er*100).round(2)}%')"
   ]
  },
  {
   "cell_type": "markdown",
   "id": "de89af00",
   "metadata": {},
   "source": [
    "Let's try to calculate the beta value using the expected return and actual return"
   ]
  },
  {
   "cell_type": "code",
   "execution_count": 26,
   "id": "7a4afaf8",
   "metadata": {},
   "outputs": [
    {
     "name": "stdout",
     "output_type": "stream",
     "text": [
      "[*********************100%***********************]  1 of 1 completed\n",
      "NFLX return: -26.41%\n"
     ]
    }
   ],
   "source": [
    "data_asset = yf.download(asset, period='1y')\n",
    "return_asset = calculateReturn(data_asset)\n",
    "print(f'NFLX return: {(return_asset*100).round(2)}%')"
   ]
  },
  {
   "cell_type": "markdown",
   "id": "46a919a7",
   "metadata": {},
   "source": [
    "In hindsight, I should have probably picked a better stock than Netflix."
   ]
  }
 ],
 "metadata": {
  "kernelspec": {
   "display_name": "Python 3 (ipykernel)",
   "language": "python",
   "name": "python3"
  },
  "language_info": {
   "codemirror_mode": {
    "name": "ipython",
    "version": 3
   },
   "file_extension": ".py",
   "mimetype": "text/x-python",
   "name": "python",
   "nbconvert_exporter": "python",
   "pygments_lexer": "ipython3",
   "version": "3.9.7"
  }
 },
 "nbformat": 4,
 "nbformat_minor": 5
}
